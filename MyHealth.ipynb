{
 "cells": [
  {
   "cell_type": "markdown",
   "metadata": {},
   "source": [
    "## Date : 2 June 2019"
   ]
  },
  {
   "cell_type": "markdown",
   "metadata": {},
   "source": [
    "## Problem 1\n",
    "### Problem Statement : \n",
    "From the \"SleepAnalysis.csv\" plot the bar graph for day and average sleep time . Consider \"In bed start\" to get the day."
   ]
  },
  {
   "cell_type": "code",
   "execution_count": 354,
   "metadata": {},
   "outputs": [
    {
     "data": {
      "text/plain": [
       "Text(0.5, 1.0, 'Average Hours Slept in week')"
      ]
     },
     "execution_count": 354,
     "metadata": {},
     "output_type": "execute_result"
    },
    {
     "data": {
      "image/png": "[encoded data removed]",
      "text/plain": [
       "<Figure size 432x288 with 1 Axes>"
      ]
     },
     "metadata": {
      "needs_background": "light"
     },
     "output_type": "display_data"
    }
   ],
   "source": [
    "import pandas as pd\n",
    "import numpy as np\n",
    "import datetime\n",
    "import matplotlib.pyplot as plt\n",
    "df=pd.read_csv('SleepAnalysis.csv')\n",
    "\n",
    "day=list(map(lambda n : pd.Timestamp(n).day_name(),df['In bed start']))\n",
    "df['Hours in bed']=list(map(lambda h:h//60 ,df['Minutes in bed'].tolist()))\n",
    "df['Day']=day\n",
    "val=df.groupby('Day')['Hours in bed'].mean()\n",
    "\n",
    "plt.bar(val.index.to_list(),val,width=.45)\n",
    "plt.xlabel('Days')\n",
    "plt.ylabel('Hours')\n",
    "plt.title('Average Hours Slept in week')"
   ]
  },
  {
   "cell_type": "code",
   "execution_count": null,
   "metadata": {},
   "outputs": [],
   "source": []
  }
 ],
 "metadata": {
  "kernelspec": {
   "display_name": "Python 3",
   "language": "python",
   "name": "python3"
  },
  "language_info": {
   "codemirror_mode": {
    "name": "ipython",
    "version": 3
   },
   "file_extension": ".py",
   "mimetype": "text/x-python",
   "name": "python",
   "nbconvert_exporter": "python",
   "pygments_lexer": "ipython3",
   "version": "3.7.3"
  }
 },
 "nbformat": 4,
 "nbformat_minor": 2
}

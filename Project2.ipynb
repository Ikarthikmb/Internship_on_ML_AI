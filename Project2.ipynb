{
 "cells": [
  {
   "cell_type": "markdown",
   "metadata": {},
   "source": [
    "## Team 4\n",
    "## Project 2:\n",
    "## Problem Statement :\n",
    " Based on the given dataset predict the House Sale Prices using   Linear  Regression. "
   ]
  },
  {
   "cell_type": "code",
   "execution_count": null,
   "metadata": {},
   "outputs": [],
   "source": []
  },
  {
   "cell_type": "markdown",
   "metadata": {},
   "source": [
    "### Mission 1:\n",
    "#### Instruction :\n",
    "* Read AmesHousing.txt into a dataframe using the tab delimiter (\\t) and assign to data."
   ]
  },
  {
   "cell_type": "code",
   "execution_count": 2,
   "metadata": {},
   "outputs": [],
   "source": [
    "import pandas as pd\n",
    "import numpy as np\n",
    "import seaborn as sns\n",
    "from sklearn.linear_model import LinearRegression"
   ]
  },
  {
   "cell_type": "code",
   "execution_count": 3,
   "metadata": {
    "scrolled": true
   },
   "outputs": [
    {
     "data": {
      "text/html": [
       "<div>\n",
       "<style scoped>\n",
       "    .dataframe tbody tr th:only-of-type {\n",
       "        vertical-align: middle;\n",
       "    }\n",
       "\n",
       "    .dataframe tbody tr th {\n",
       "        vertical-align: top;\n",
       "    }\n",
       "\n",
       "    .dataframe thead th {\n",
       "        text-align: right;\n",
       "    }\n",
       "</style>\n",
       "<table border=\"1\" class=\"dataframe\">\n",
       "  <thead>\n",
       "    <tr style=\"text-align: right;\">\n",
       "      <th></th>\n",
       "      <th>Order</th>\n",
       "      <th>PID</th>\n",
       "      <th>MS SubClass</th>\n",
       "      <th>MS Zoning</th>\n",
       "      <th>Lot Frontage</th>\n",
       "      <th>Lot Area</th>\n",
       "      <th>Street</th>\n",
       "      <th>Alley</th>\n",
       "      <th>Lot Shape</th>\n",
       "      <th>Land Contour</th>\n",
       "      <th>...</th>\n",
       "      <th>Pool Area</th>\n",
       "      <th>Pool QC</th>\n",
       "      <th>Fence</th>\n",
       "      <th>Misc Feature</th>\n",
       "      <th>Misc Val</th>\n",
       "      <th>Mo Sold</th>\n",
       "      <th>Yr Sold</th>\n",
       "      <th>Sale Type</th>\n",
       "      <th>Sale Condition</th>\n",
       "      <th>SalePrice</th>\n",
       "    </tr>\n",
       "  </thead>\n",
       "  <tbody>\n",
       "    <tr>\n",
       "      <th>0</th>\n",
       "      <td>1</td>\n",
       "      <td>526301100</td>\n",
       "      <td>20</td>\n",
       "      <td>RL</td>\n",
       "      <td>141.0</td>\n",
       "      <td>31770</td>\n",
       "      <td>Pave</td>\n",
       "      <td>NaN</td>\n",
       "      <td>IR1</td>\n",
       "      <td>Lvl</td>\n",
       "      <td>...</td>\n",
       "      <td>0</td>\n",
       "      <td>NaN</td>\n",
       "      <td>NaN</td>\n",
       "      <td>NaN</td>\n",
       "      <td>0</td>\n",
       "      <td>5</td>\n",
       "      <td>2010</td>\n",
       "      <td>WD</td>\n",
       "      <td>Normal</td>\n",
       "      <td>215000</td>\n",
       "    </tr>\n",
       "    <tr>\n",
       "      <th>1</th>\n",
       "      <td>2</td>\n",
       "      <td>526350040</td>\n",
       "      <td>20</td>\n",
       "      <td>RH</td>\n",
       "      <td>80.0</td>\n",
       "      <td>11622</td>\n",
       "      <td>Pave</td>\n",
       "      <td>NaN</td>\n",
       "      <td>Reg</td>\n",
       "      <td>Lvl</td>\n",
       "      <td>...</td>\n",
       "      <td>0</td>\n",
       "      <td>NaN</td>\n",
       "      <td>MnPrv</td>\n",
       "      <td>NaN</td>\n",
       "      <td>0</td>\n",
       "      <td>6</td>\n",
       "      <td>2010</td>\n",
       "      <td>WD</td>\n",
       "      <td>Normal</td>\n",
       "      <td>105000</td>\n",
       "    </tr>\n",
       "    <tr>\n",
       "      <th>2</th>\n",
       "      <td>3</td>\n",
       "      <td>526351010</td>\n",
       "      <td>20</td>\n",
       "      <td>RL</td>\n",
       "      <td>81.0</td>\n",
       "      <td>14267</td>\n",
       "      <td>Pave</td>\n",
       "      <td>NaN</td>\n",
       "      <td>IR1</td>\n",
       "      <td>Lvl</td>\n",
       "      <td>...</td>\n",
       "      <td>0</td>\n",
       "      <td>NaN</td>\n",
       "      <td>NaN</td>\n",
       "      <td>Gar2</td>\n",
       "      <td>12500</td>\n",
       "      <td>6</td>\n",
       "      <td>2010</td>\n",
       "      <td>WD</td>\n",
       "      <td>Normal</td>\n",
       "      <td>172000</td>\n",
       "    </tr>\n",
       "    <tr>\n",
       "      <th>3</th>\n",
       "      <td>4</td>\n",
       "      <td>526353030</td>\n",
       "      <td>20</td>\n",
       "      <td>RL</td>\n",
       "      <td>93.0</td>\n",
       "      <td>11160</td>\n",
       "      <td>Pave</td>\n",
       "      <td>NaN</td>\n",
       "      <td>Reg</td>\n",
       "      <td>Lvl</td>\n",
       "      <td>...</td>\n",
       "      <td>0</td>\n",
       "      <td>NaN</td>\n",
       "      <td>NaN</td>\n",
       "      <td>NaN</td>\n",
       "      <td>0</td>\n",
       "      <td>4</td>\n",
       "      <td>2010</td>\n",
       "      <td>WD</td>\n",
       "      <td>Normal</td>\n",
       "      <td>244000</td>\n",
       "    </tr>\n",
       "    <tr>\n",
       "      <th>4</th>\n",
       "      <td>5</td>\n",
       "      <td>527105010</td>\n",
       "      <td>60</td>\n",
       "      <td>RL</td>\n",
       "      <td>74.0</td>\n",
       "      <td>13830</td>\n",
       "      <td>Pave</td>\n",
       "      <td>NaN</td>\n",
       "      <td>IR1</td>\n",
       "      <td>Lvl</td>\n",
       "      <td>...</td>\n",
       "      <td>0</td>\n",
       "      <td>NaN</td>\n",
       "      <td>MnPrv</td>\n",
       "      <td>NaN</td>\n",
       "      <td>0</td>\n",
       "      <td>3</td>\n",
       "      <td>2010</td>\n",
       "      <td>WD</td>\n",
       "      <td>Normal</td>\n",
       "      <td>189900</td>\n",
       "    </tr>\n",
       "    <tr>\n",
       "      <th>5</th>\n",
       "      <td>6</td>\n",
       "      <td>527105030</td>\n",
       "      <td>60</td>\n",
       "      <td>RL</td>\n",
       "      <td>78.0</td>\n",
       "      <td>9978</td>\n",
       "      <td>Pave</td>\n",
       "      <td>NaN</td>\n",
       "      <td>IR1</td>\n",
       "      <td>Lvl</td>\n",
       "      <td>...</td>\n",
       "      <td>0</td>\n",
       "      <td>NaN</td>\n",
       "      <td>NaN</td>\n",
       "      <td>NaN</td>\n",
       "      <td>0</td>\n",
       "      <td>6</td>\n",
       "      <td>2010</td>\n",
       "      <td>WD</td>\n",
       "      <td>Normal</td>\n",
       "      <td>195500</td>\n",
       "    </tr>\n",
       "  </tbody>\n",
       "</table>\n",
       "<p>6 rows × 82 columns</p>\n",
       "</div>"
      ],
      "text/plain": [
       "   Order        PID  MS SubClass MS Zoning  Lot Frontage  Lot Area Street  \\\n",
       "0      1  526301100           20        RL         141.0     31770   Pave   \n",
       "1      2  526350040           20        RH          80.0     11622   Pave   \n",
       "2      3  526351010           20        RL          81.0     14267   Pave   \n",
       "3      4  526353030           20        RL          93.0     11160   Pave   \n",
       "4      5  527105010           60        RL          74.0     13830   Pave   \n",
       "5      6  527105030           60        RL          78.0      9978   Pave   \n",
       "\n",
       "  Alley Lot Shape Land Contour  ... Pool Area Pool QC  Fence Misc Feature  \\\n",
       "0   NaN       IR1          Lvl  ...         0     NaN    NaN          NaN   \n",
       "1   NaN       Reg          Lvl  ...         0     NaN  MnPrv          NaN   \n",
       "2   NaN       IR1          Lvl  ...         0     NaN    NaN         Gar2   \n",
       "3   NaN       Reg          Lvl  ...         0     NaN    NaN          NaN   \n",
       "4   NaN       IR1          Lvl  ...         0     NaN  MnPrv          NaN   \n",
       "5   NaN       IR1          Lvl  ...         0     NaN    NaN          NaN   \n",
       "\n",
       "  Misc Val Mo Sold Yr Sold Sale Type  Sale Condition  SalePrice  \n",
       "0        0       5    2010       WD           Normal     215000  \n",
       "1        0       6    2010       WD           Normal     105000  \n",
       "2    12500       6    2010       WD           Normal     172000  \n",
       "3        0       4    2010       WD           Normal     244000  \n",
       "4        0       3    2010       WD           Normal     189900  \n",
       "5        0       6    2010       WD           Normal     195500  \n",
       "\n",
       "[6 rows x 82 columns]"
      ]
     },
     "execution_count": 3,
     "metadata": {},
     "output_type": "execute_result"
    }
   ],
   "source": [
    "ame=pd.read_csv('DataFile/AmesHousing.csv',delimiter='\\t')\n",
    "ame.head(6)"
   ]
  },
  {
   "cell_type": "code",
   "execution_count": null,
   "metadata": {},
   "outputs": [],
   "source": []
  },
  {
   "cell_type": "markdown",
   "metadata": {},
   "source": [
    "### Mission 2 : Introduction to the Data\n",
    "\n",
    "#### Instructions :\n",
    "\n",
    "* Select the first 1460 rows from from data and assign to train.\n",
    "* Select the remaining rows from data and assign to test.\n",
    "* Use the dataframe.info() method to display information about each column.\n",
    "* Read the data documentation to get more familiar with each column.\n",
    "* Using the data documentation, determine which column is the target column we want to predict. Assign the column name as a string to target."
   ]
  },
  {
   "cell_type": "code",
   "execution_count": 4,
   "metadata": {},
   "outputs": [
    {
     "name": "stdout",
     "output_type": "stream",
     "text": [
      "<class 'pandas.core.frame.DataFrame'>\n",
      "RangeIndex: 1461 entries, 0 to 1460\n",
      "Data columns (total 3 columns):\n",
      "Garage Area     1461 non-null float64\n",
      "Gr Liv Area     1461 non-null int64\n",
      "Overall Cond    1461 non-null int64\n",
      "dtypes: float64(1), int64(2)\n",
      "memory usage: 34.3 KB\n",
      "<class 'pandas.core.frame.DataFrame'>\n",
      "RangeIndex: 470 entries, 1461 to 1930\n",
      "Data columns (total 3 columns):\n",
      "Garage Area     470 non-null float64\n",
      "Gr Liv Area     470 non-null int64\n",
      "Overall Cond    470 non-null int64\n",
      "dtypes: float64(1), int64(2)\n",
      "memory usage: 11.1 KB\n",
      "<class 'pandas.core.frame.DataFrame'>\n",
      "RangeIndex: 1461 entries, 0 to 1460\n",
      "Data columns (total 1 columns):\n",
      "Target    1461 non-null int64\n",
      "dtypes: int64(1)\n",
      "memory usage: 11.5 KB\n",
      "<class 'pandas.core.frame.DataFrame'>\n",
      "RangeIndex: 470 entries, 1461 to 1930\n",
      "Data columns (total 1 columns):\n",
      "Target    470 non-null int64\n",
      "dtypes: int64(1)\n",
      "memory usage: 3.7 KB\n"
     ]
    }
   ],
   "source": [
    "train_X=ame[['Garage Area','Gr Liv Area','Overall Cond']].iloc[:1461]      # Select the first 1460 rows from from data and assign to train.\n",
    "test_X=ame[['Garage Area','Gr Liv Area','Overall Cond']].iloc[1461:1931]    # Select the remaining rows from data and assign to test.\n",
    "train_X.info()                    ## display information about each column in train_X\n",
    "test_X.info()                     ## display information about each column in test_X \n",
    "ame['Target']=ame['SalePrice']\n",
    "train_y=ame['Target'].iloc[:1461].to_frame()\n",
    "test_y=ame['Target'].iloc[1461:1931].to_frame()\n",
    "train_y.info()                    ## display information about each column in train_y \n",
    "test_y.info()                     ## display information about each column in test_y "
   ]
  },
  {
   "cell_type": "code",
   "execution_count": null,
   "metadata": {},
   "outputs": [],
   "source": []
  },
  {
   "cell_type": "markdown",
   "metadata": {},
   "source": [
    "### Mission 3: Simple Linear Regression \n",
    "#### Instructions :\n",
    "* The first plot should plot the Garage Area column on the x-axis against the SalePrice column on the y-axis.\n",
    "* The second one should plot the Gr Liv Area column on the x-axis against the SalePrice column on the y-axis.\n",
    "* The third one should plot the Overall Cond column on the x-axis against the SalePrice column on the y-axis.\n"
   ]
  },
  {
   "cell_type": "code",
   "execution_count": 5,
   "metadata": {},
   "outputs": [
    {
     "data": {
      "text/plain": [
       "<matplotlib.collections.PathCollection at 0x11e92250>"
      ]
     },
     "execution_count": 5,
     "metadata": {},
     "output_type": "execute_result"
    },
    {
     "data": {
      "image/png": "[encoded data removed]",
      "text/plain": [
       "<Figure size 864x1296 with 3 Axes>"
      ]
     },
     "metadata": {
      "needs_background": "light"
     },
     "output_type": "display_data"
    }
   ],
   "source": [
    "import matplotlib.pyplot as plt\n",
    "\n",
    "plt.figure(figsize=(12,18))\n",
    "plt.xlabel('SalePrice')\n",
    "plt.ylabel(('Garage Area','Gr Liv Area','Overall Cond'))\n",
    "plt.subplot(3,1,1)\n",
    "plt.scatter((np.array(ame['Garage Area']).astype(int).tolist()),(np.array(ame['SalePrice']).astype(int).tolist()))\n",
    "plt.subplot(3,1,2)\n",
    "plt.scatter((np.array(ame['Gr Liv Area']).astype(int).tolist()),(np.array(ame['SalePrice']).astype(int).tolist()))\n",
    "# plt.scatter((ame['Gr Liv Area']).to_list(),ame['SalePrice'].to_list())\n",
    "plt.subplot(3,1,3)\n",
    "plt.scatter((np.array(ame['Overall Cond']).astype(int).tolist()),(np.array(ame['SalePrice']).astype(int).tolist()))\n",
    "# plt.scatter(ame['Overall Cond'].to_list(),ame['SalePrice'].to_list())"
   ]
  },
  {
   "cell_type": "code",
   "execution_count": null,
   "metadata": {},
   "outputs": [],
   "source": []
  },
  {
   "cell_type": "markdown",
   "metadata": {},
   "source": [
    "### Mission 4:\n",
    "#### Instruction :\n",
    "* Confirming the above calculation by  correlating between pairs of these columns using the pandas.DataFrame.corr() method"
   ]
  },
  {
   "cell_type": "code",
   "execution_count": 6,
   "metadata": {},
   "outputs": [
    {
     "data": {
      "text/html": [
       "<div>\n",
       "<style scoped>\n",
       "    .dataframe tbody tr th:only-of-type {\n",
       "        vertical-align: middle;\n",
       "    }\n",
       "\n",
       "    .dataframe tbody tr th {\n",
       "        vertical-align: top;\n",
       "    }\n",
       "\n",
       "    .dataframe thead th {\n",
       "        text-align: right;\n",
       "    }\n",
       "</style>\n",
       "<table border=\"1\" class=\"dataframe\">\n",
       "  <thead>\n",
       "    <tr style=\"text-align: right;\">\n",
       "      <th></th>\n",
       "      <th>Garage Area</th>\n",
       "      <th>Gr Liv Area</th>\n",
       "      <th>Overall Cond</th>\n",
       "      <th>SalePrice</th>\n",
       "    </tr>\n",
       "  </thead>\n",
       "  <tbody>\n",
       "    <tr>\n",
       "      <th>Garage Area</th>\n",
       "      <td>1.000000</td>\n",
       "      <td>0.484892</td>\n",
       "      <td>-0.153754</td>\n",
       "      <td>0.640401</td>\n",
       "    </tr>\n",
       "    <tr>\n",
       "      <th>Gr Liv Area</th>\n",
       "      <td>0.484892</td>\n",
       "      <td>1.000000</td>\n",
       "      <td>-0.115643</td>\n",
       "      <td>0.706780</td>\n",
       "    </tr>\n",
       "    <tr>\n",
       "      <th>Overall Cond</th>\n",
       "      <td>-0.153754</td>\n",
       "      <td>-0.115643</td>\n",
       "      <td>1.000000</td>\n",
       "      <td>-0.101697</td>\n",
       "    </tr>\n",
       "    <tr>\n",
       "      <th>SalePrice</th>\n",
       "      <td>0.640401</td>\n",
       "      <td>0.706780</td>\n",
       "      <td>-0.101697</td>\n",
       "      <td>1.000000</td>\n",
       "    </tr>\n",
       "  </tbody>\n",
       "</table>\n",
       "</div>"
      ],
      "text/plain": [
       "              Garage Area  Gr Liv Area  Overall Cond  SalePrice\n",
       "Garage Area      1.000000     0.484892     -0.153754   0.640401\n",
       "Gr Liv Area      0.484892     1.000000     -0.115643   0.706780\n",
       "Overall Cond    -0.153754    -0.115643      1.000000  -0.101697\n",
       "SalePrice        0.640401     0.706780     -0.101697   1.000000"
      ]
     },
     "execution_count": 6,
     "metadata": {},
     "output_type": "execute_result"
    }
   ],
   "source": [
    "ame[['Garage Area','Gr Liv Area','Overall Cond','SalePrice']].corr()"
   ]
  },
  {
   "cell_type": "code",
   "execution_count": null,
   "metadata": {},
   "outputs": [],
   "source": []
  },
  {
   "cell_type": "markdown",
   "metadata": {},
   "source": [
    "### Mission 5: Using Scikit-Learn to Train and Predict\n",
    "#### Instructions :\n",
    "* Import and instantiate a linear regression model.\n",
    "* Fit a linear regression model that uses the feature and target columns we explored in the last 2 screens. Use the default arguments.\n",
    "* Display the coefficient and intercept of the fitted model using the coef_ and intercept_ attributes.\n",
    "* Assign a1 to a1 and a0 to a0.\n"
   ]
  },
  {
   "cell_type": "code",
   "execution_count": 7,
   "metadata": {},
   "outputs": [],
   "source": [
    "regr=LinearRegression()\n",
    "regr.fit(train_X['Gr Liv Area'].to_frame(),train_y)\n",
    "y_pred=regr.predict(test_X['Gr Liv Area'].to_frame()).astype(int)    # Predict using the linear model"
   ]
  },
  {
   "cell_type": "code",
   "execution_count": 8,
   "metadata": {},
   "outputs": [
    {
     "name": "stdout",
     "output_type": "stream",
     "text": [
      "LinearRegression(copy_X=True, fit_intercept=True, n_jobs=None,\n",
      "         normalize=False)\n",
      "coefficient is [[6.05323461e-05 1.16924615e+02 9.94449220e-03]] \n",
      " intercept is [5307.34146852]\n"
     ]
    }
   ],
   "source": [
    "print(regr.fit(test_X,y_pred) )                # Fit linear model.\n",
    "# print('score ',regr.score(test_X,y_pred))      # Returns the coefficient of determination R^2 of the prediction.\n",
    "a1= regr.coef_                                 # Estimated coefficients for the linear regression problem\n",
    "a0=regr.intercept_\n",
    "print('coefficient is',a1,'\\n','intercept is',a0)"
   ]
  },
  {
   "cell_type": "code",
   "execution_count": null,
   "metadata": {},
   "outputs": [],
   "source": []
  },
  {
   "cell_type": "markdown",
   "metadata": {},
   "source": [
    "### Mission 6: Making Predictions\n",
    "    y^=116.924615x1+5307.34146852\n",
    "   One way to interpret this model is \"for every 1 square foot increase in above ground living area, we can expect the home's value to increase by approximately 116.87 dollars\".\n",
    "#### Instructions :\n",
    "* Use the fitted model to make predictions on both the training and test sets.\n",
    "* Calculate the RMSE value for the predictions on the training set and assign to train_rmse.\n",
    "* Calculate the RMSE value for the predictions on the test set and assign to test_rmse."
   ]
  },
  {
   "cell_type": "markdown",
   "metadata": {},
   "source": [
    "#### Plotting the predicted and real values"
   ]
  },
  {
   "cell_type": "code",
   "execution_count": 9,
   "metadata": {},
   "outputs": [
    {
     "data": {
      "image/png": "[encoded data removed]",
      "text/plain": [
       "<Figure size 864x432 with 1 Axes>"
      ]
     },
     "metadata": {
      "needs_background": "light"
     },
     "output_type": "display_data"
    }
   ],
   "source": [
    "plt.figure(figsize=(12,6))\n",
    "# plt.scatter(np.array(test_X[['Garage Area']].astype(int)).tolist(),np.array(test_y).tolist(),color='black')\n",
    "plt.scatter(np.array(test_X[['Gr Liv Area']].astype(int)).tolist(),np.array(test_y).tolist())\n",
    "# plt.scatter(np.array(test_X[['Overall Cond']].astype(int)).tolist(),np.array(test_y).tolist(),color='green')\n",
    "plt.plot(test_X['Gr Liv Area'].to_frame(),y_pred)\n",
    "plt.xticks()\n",
    "plt.yticks()\n",
    "plt.show()"
   ]
  },
  {
   "cell_type": "code",
   "execution_count": null,
   "metadata": {},
   "outputs": [],
   "source": []
  },
  {
   "cell_type": "markdown",
   "metadata": {},
   "source": [
    "### Linear Regression for Machine Learning\n",
    "### 2. Feature Selection"
   ]
  },
  {
   "cell_type": "markdown",
   "metadata": {},
   "source": [
    "#### Mission 1: Missing Values\n",
    "##### Instructions\n",
    "* Read AmesHousing.txt into a dataframe named data. Be sure to seperate on the \\tdelimiter.\n",
    "* Create a dataframe called train, which contains the first 1460 rows of data.\n",
    "* Create a dataframe called test, which contains the rest of the rows of data.\n",
    "* Select the integer and float columns from train and assign them to the variable numerical_train.\n",
    "* Drop the following columns from numerical_train:\n",
    "    * PID (place ID isn't useful for modeling)\n",
    "    * Year Built\n",
    "    * Year Remod/Add\n",
    "    * Garage Yr Blt\n",
    "    * Mo Sold\n",
    "    * Yr Sold\n"
   ]
  },
  {
   "cell_type": "code",
   "execution_count": 24,
   "metadata": {},
   "outputs": [
    {
     "data": {
      "text/plain": [
       "Index(['Order', 'MS SubClass', 'MS Zoning', 'Lot Frontage', 'Lot Area',\n",
       "       'Street', 'Alley', 'Lot Shape', 'Land Contour', 'Utilities',\n",
       "       'Lot Config', 'Land Slope', 'Neighborhood', 'Condition 1',\n",
       "       'Condition 2', 'Bldg Type', 'House Style', 'Overall Qual',\n",
       "       'Overall Cond', 'Roof Style', 'Roof Matl', 'Exterior 1st',\n",
       "       'Exterior 2nd', 'Mas Vnr Type', 'Mas Vnr Area', 'Exter Qual',\n",
       "       'Exter Cond', 'Foundation', 'Bsmt Qual', 'Bsmt Cond', 'Bsmt Exposure',\n",
       "       'BsmtFin Type 1', 'BsmtFin SF 1', 'BsmtFin Type 2', 'BsmtFin SF 2',\n",
       "       'Bsmt Unf SF', 'Total Bsmt SF', 'Heating', 'Heating QC', 'Central Air',\n",
       "       'Electrical', '1st Flr SF', '2nd Flr SF', 'Low Qual Fin SF',\n",
       "       'Gr Liv Area', 'Bsmt Full Bath', 'Bsmt Half Bath', 'Full Bath',\n",
       "       'Half Bath', 'Bedroom AbvGr', 'Kitchen AbvGr', 'Kitchen Qual',\n",
       "       'TotRms AbvGrd', 'Functional', 'Fireplaces', 'Fireplace Qu',\n",
       "       'Garage Type', 'Garage Finish', 'Garage Cars', 'Garage Area',\n",
       "       'Garage Qual', 'Garage Cond', 'Paved Drive', 'Wood Deck SF',\n",
       "       'Open Porch SF', 'Enclosed Porch', '3Ssn Porch', 'Screen Porch',\n",
       "       'Pool Area', 'Pool QC', 'Fence', 'Misc Feature', 'Misc Val',\n",
       "       'Sale Type', 'Sale Condition', 'SalePrice', 'Target'],\n",
       "      dtype='object')"
      ]
     },
     "execution_count": 24,
     "metadata": {},
     "output_type": "execute_result"
    }
   ],
   "source": [
    "ame.columns"
   ]
  },
  {
   "cell_type": "markdown",
   "metadata": {},
   "source": []
  },
  {
   "cell_type": "code",
   "execution_count": 75,
   "metadata": {},
   "outputs": [
    {
     "data": {
      "text/plain": [
       "numpy.ndarray"
      ]
     },
     "execution_count": 75,
     "metadata": {},
     "output_type": "execute_result"
    }
   ],
   "source": [
    "# ame=ame.drop(['PID','Year Built','Year Remod/Add','Garage Yr Blt','Mo Sold','Yr Sold'],axis=1,inplace=False)\n",
    "type(ame.values)"
   ]
  },
  {
   "cell_type": "code",
   "execution_count": 74,
   "metadata": {},
   "outputs": [
    {
     "data": {
      "text/plain": [
       "(<function __main__.<lambda>(x)>,\n",
       " [dtype('int64'),\n",
       "  dtype('int64'),\n",
       "  dtype('O'),\n",
       "  dtype('float64'),\n",
       "  dtype('int64'),\n",
       "  dtype('O'),\n",
       "  dtype('O'),\n",
       "  dtype('O'),\n",
       "  dtype('O'),\n",
       "  dtype('O'),\n",
       "  dtype('O'),\n",
       "  dtype('O'),\n",
       "  dtype('O'),\n",
       "  dtype('O'),\n",
       "  dtype('O'),\n",
       "  dtype('O'),\n",
       "  dtype('O'),\n",
       "  dtype('int64'),\n",
       "  dtype('int64'),\n",
       "  dtype('O'),\n",
       "  dtype('O'),\n",
       "  dtype('O'),\n",
       "  dtype('O'),\n",
       "  dtype('O'),\n",
       "  dtype('float64'),\n",
       "  dtype('O'),\n",
       "  dtype('O'),\n",
       "  dtype('O'),\n",
       "  dtype('O'),\n",
       "  dtype('O'),\n",
       "  dtype('O'),\n",
       "  dtype('O'),\n",
       "  dtype('float64'),\n",
       "  dtype('O'),\n",
       "  dtype('float64'),\n",
       "  dtype('float64'),\n",
       "  dtype('float64'),\n",
       "  dtype('O'),\n",
       "  dtype('O'),\n",
       "  dtype('O'),\n",
       "  dtype('O'),\n",
       "  dtype('int64'),\n",
       "  dtype('int64'),\n",
       "  dtype('int64'),\n",
       "  dtype('int64'),\n",
       "  dtype('float64'),\n",
       "  dtype('float64'),\n",
       "  dtype('int64'),\n",
       "  dtype('int64'),\n",
       "  dtype('int64'),\n",
       "  dtype('int64'),\n",
       "  dtype('O'),\n",
       "  dtype('int64'),\n",
       "  dtype('O'),\n",
       "  dtype('int64'),\n",
       "  dtype('O'),\n",
       "  dtype('O'),\n",
       "  dtype('O'),\n",
       "  dtype('float64'),\n",
       "  dtype('float64'),\n",
       "  dtype('O'),\n",
       "  dtype('O'),\n",
       "  dtype('O'),\n",
       "  dtype('int64'),\n",
       "  dtype('int64'),\n",
       "  dtype('int64'),\n",
       "  dtype('int64'),\n",
       "  dtype('int64'),\n",
       "  dtype('int64'),\n",
       "  dtype('O'),\n",
       "  dtype('O'),\n",
       "  dtype('O'),\n",
       "  dtype('int64'),\n",
       "  dtype('O'),\n",
       "  dtype('O'),\n",
       "  dtype('int64'),\n",
       "  dtype('int64')])"
      ]
     },
     "execution_count": 74,
     "metadata": {},
     "output_type": "execute_result"
    }
   ],
   "source": [
    "lambda x: (x== dtype('int64') | x==dtype('float64')) ,[*ame.dtypes]\n",
    "# (ame.dtypes[3])"
   ]
  },
  {
   "cell_type": "code",
   "execution_count": null,
   "metadata": {},
   "outputs": [],
   "source": []
  },
  {
   "cell_type": "code",
   "execution_count": null,
   "metadata": {},
   "outputs": [],
   "source": []
  }
 ],
 "metadata": {
  "kernelspec": {
   "display_name": "Python 3",
   "language": "python",
   "name": "python3"
  },
  "language_info": {
   "codemirror_mode": {
    "name": "ipython",
    "version": 3
   },
   "file_extension": ".py",
   "mimetype": "text/x-python",
   "name": "python",
   "nbconvert_exporter": "python",
   "pygments_lexer": "ipython3",
   "version": "3.7.3"
  }
 },
 "nbformat": 4,
 "nbformat_minor": 2
}

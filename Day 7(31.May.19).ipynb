{
 "cells": [
  {
   "cell_type": "markdown",
   "metadata": {},
   "source": [
    "## Day 7\n",
    "### Date 31 May 2019"
   ]
  },
  {
   "cell_type": "code",
   "execution_count": null,
   "metadata": {},
   "outputs": [],
   "source": []
  },
  {
   "cell_type": "markdown",
   "metadata": {},
   "source": [
    "## Q1 How many runs of  Dhoni  On 4/23/2008  Chennai Super Kings vs Mumbai Indians Match ( Use Oops concepts)\n",
    "\n",
    "### Datasets: \n",
    "* Match.csv => Match details (match id , teams, location etc) \n",
    "* Player.csv => Player Details (player id, name,team name, etc)\n",
    "* Ball_By_Ball => Ball to ball details (match id , striker, runs, over id, ball id etc)\n"
   ]
  },
  {
   "cell_type": "code",
   "execution_count": 327,
   "metadata": {},
   "outputs": [
    {
     "name": "stdout",
     "output_type": "stream",
     "text": [
      "0.00017791999925975688\n",
      "30\n"
     ]
    }
   ],
   "source": [
    "import pandas as pd\n",
    "import timeit\n",
    "srt=timeit.default_timer()\n",
    "class Runs:\n",
    "    def read(fname):\n",
    "        df=pd.read_csv(fname)\n",
    "        return df\n",
    "    def date(date,Pname):\n",
    "        mid=df1[df1['match_date']==date].values[0][1]\n",
    "        pid=df2[df2['Player_Name']==Pname].values[0][0]\n",
    "        dmv=df3[(df3['MatcH_id']==mid) & (df3['StrikerSK']==pid )].Runs_Scored.sum()\n",
    "        print(dmv)\n",
    "    print(timeit.default_timer()-srt)\n",
    "    \n",
    "r=Runs\n",
    "\n",
    "df1=r.read('Match.csv')\n",
    "df2=r.read('Player.csv')\n",
    "df3=r.read('Ball_By_Ball.csv')\n",
    "r.date('4/23/2008','MS Dhoni')\n"
   ]
  },
  {
   "cell_type": "code",
   "execution_count": null,
   "metadata": {},
   "outputs": [],
   "source": []
  },
  {
   "cell_type": "markdown",
   "metadata": {},
   "source": [
    "## Q2 4/23/2008  Chennai Super Kings vs Mumbai Indians Match.Plot a bar graph for all the players in the   Mumbai Indians  team\n"
   ]
  },
  {
   "cell_type": "code",
   "execution_count": 330,
   "metadata": {},
   "outputs": [
    {
     "data": {
      "image/png": "[encoded data removed]",
      "text/plain": [
       "<Figure size 936x360 with 1 Axes>"
      ]
     },
     "metadata": {
      "needs_background": "light"
     },
     "output_type": "display_data"
    },
    {
     "name": "stdout",
     "output_type": "stream",
     "text": [
      "1.7395782490002603\n"
     ]
    }
   ],
   "source": [
    "import pandas as pd\n",
    "import timeit\n",
    "import matplotlib.pyplot as plt\n",
    "\n",
    "start=timeit.default_timer()\n",
    "\n",
    "class TEAM:\n",
    "    def read(fname):\n",
    "        df=pd.read_csv(fname)\n",
    "        return df\n",
    "\n",
    "    def mi(date,teamdata):\n",
    "        mid=int(df1[(df1['match_date']==date)& ((df1['Team1']==teamdata) | (df1['Team2']==teamdata ))]['match_id'])\n",
    "#         midt=m.df1[m.df1['match_date']==date]['Team2']\n",
    "        #print(mid,'\\n',midt)\n",
    "        Bpl=df5['Player_Name'][(df5['Match_Id']==mid) & (df5['Player_team']==teamdata)].to_list()\n",
    "\n",
    "        pid=list(map(lambda d:df2[df2['Player_Name']==d].index[0],Bpl))\n",
    "\n",
    "        sc=list(map(lambda i: df3[(df3['StrikerSK']==i)& (df3['MatcH_id']==mid )]['Runs_Scored'].sum(),pid))\n",
    "        \n",
    "        plt.rcParams['figure.figsize']=[13,5]\n",
    "        plt.xlabel(teamdata)\n",
    "        plt.ylabel('Scores')\n",
    "        ax=plt.bar(Bpl,sc)\n",
    "        plt.show()\n",
    "        print(timeit.default_timer()-start)\n",
    "m=TEAM\n",
    "df1=m.read('Match.csv')\n",
    "df2=m.read('Player.csv')\n",
    "df3=m.read('Ball_By_Ball.csv')\n",
    "#df4=m.read('Team.csv')\n",
    "df5=m.read('Player_match.csv')\n",
    "m.mi('4/23/2008','Mumbai Indians')\n"
   ]
  },
  {
   "cell_type": "code",
   "execution_count": null,
   "metadata": {},
   "outputs": [],
   "source": []
  }
 ],
 "metadata": {
  "kernelspec": {
   "display_name": "Python 3",
   "language": "python",
   "name": "python3"
  },
  "language_info": {
   "codemirror_mode": {
    "name": "ipython",
    "version": 3
   },
   "file_extension": ".py",
   "mimetype": "text/x-python",
   "name": "python",
   "nbconvert_exporter": "python",
   "pygments_lexer": "ipython3",
   "version": "3.7.3"
  }
 },
 "nbformat": 4,
 "nbformat_minor": 2
}
